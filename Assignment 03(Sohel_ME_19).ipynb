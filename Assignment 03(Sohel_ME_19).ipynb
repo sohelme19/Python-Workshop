{
 "cells": [
  {
   "cell_type": "markdown",
   "id": "missing-venice",
   "metadata": {},
   "source": [
    "Control flow in Python is the order in which the program's code executes. The control flow of a Python program is regulated by conditional statements, loops, and function calls."
   ]
  },
  {
   "cell_type": "markdown",
   "id": "traditional-bullet",
   "metadata": {},
   "source": [
    "Flow controls can be defined as conditional: \"if, elif, else\", loops: \"for, while\" etc. As per the last class was only about conditional statements.\n",
    "Conditional statements, often referred to as if-then statements, allow the programmer to execute certain pieces of code depending on some Boolean condition. A basic example of a Python conditional statement is this:"
   ]
  },
  {
   "cell_type": "code",
   "execution_count": 27,
   "id": "sorted-sarah",
   "metadata": {},
   "outputs": [
    {
     "name": "stdout",
     "output_type": "stream",
     "text": [
      "21 is positive\n"
     ]
    }
   ],
   "source": [
    "x = 21\n",
    "\n",
    "if x == 0:\n",
    "    print(x, \"is zero\")\n",
    "elif x > 0:\n",
    "    print(x, \"is positive\")\n",
    "elif x < 0:\n",
    "    print(x, \"is negative\")\n",
    "else:\n",
    "    print(x, \"is Undefined\")"
   ]
  },
  {
   "cell_type": "code",
   "execution_count": 24,
   "id": "heard-sheep",
   "metadata": {},
   "outputs": [
    {
     "name": "stdout",
     "output_type": "stream",
     "text": [
      "Enter number:6\n",
      "6 is an even number\n"
     ]
    }
   ],
   "source": [
    "#problem1\n",
    "\n",
    "m = int(input(\"Enter number:\"))\n",
    "if m % 2 == 0:\n",
    "    print(m,\"is an even number\")\n",
    "else:\n",
    "    print(m,\"is an odd number\")"
   ]
  },
  {
   "cell_type": "code",
   "execution_count": 23,
   "id": "opposed-engine",
   "metadata": {},
   "outputs": [
    {
     "name": "stdout",
     "output_type": "stream",
     "text": [
      "Enter The value:109\n",
      "109 is not divisible\n"
     ]
    }
   ],
   "source": [
    "#problem2a\n",
    "\n",
    "a = int(input(\"Enter The value:\"))\n",
    "if 100 <= a < 200 and a % 9 == 0:\n",
    "    print(a,\"is divisibe\")\n",
    "else:\n",
    "    print (a,\"is not divisible\")"
   ]
  },
  {
   "cell_type": "code",
   "execution_count": 4,
   "id": "after-abraham",
   "metadata": {},
   "outputs": [
    {
     "name": "stdout",
     "output_type": "stream",
     "text": [
      "Enter the value:105\n",
      "105 is divisible\n",
      "105 is multiple\n"
     ]
    }
   ],
   "source": [
    "#problem2b\n",
    "a = int(input(\"Enter the value:\"))\n",
    "if 100 < a < 500 and a % 7 == 0:\n",
    "    print (a,\"is divisible\")\n",
    "else:\n",
    "    print (a,\"is not divisible\")\n",
    "if 100 < a < 500 and a % 5 ==0:\n",
    "    print (a,\"is multiple\")\n",
    "else:\n",
    "    print(a,\"is not multiple\")"
   ]
  },
  {
   "cell_type": "code",
   "execution_count": 3,
   "id": "proud-comparative",
   "metadata": {},
   "outputs": [
    {
     "name": "stdout",
     "output_type": "stream",
     "text": [
      "Enter Year: 2024\n",
      "2024 is a Leap Year\n"
     ]
    }
   ],
   "source": [
    "#problem3\n",
    "\n",
    "year = int(input(\"Enter Year: \"))\n",
    "if year % 4 == 0:\n",
    "    print(year, \"is a Leap Year\")\n",
    "else:\n",
    "    print(year,\"is not a leap year\")"
   ]
  },
  {
   "cell_type": "code",
   "execution_count": 11,
   "id": "weekly-collapse",
   "metadata": {},
   "outputs": [
    {
     "name": "stdout",
     "output_type": "stream",
     "text": [
      "Chose Operation \n",
      "1.Add\n",
      "2.Substract\n",
      "3.Multiply\n",
      "4.Division\n",
      "Enter 1/2/3/4: 1\n",
      "Enter First Number12\n",
      "Enter Second Number23\n",
      "The result i:  35.0\n"
     ]
    }
   ],
   "source": [
    "#problem4\n",
    "print(\"Chose Operation \\n1.Add\", \"2.Substract\", \"3.Multiply\", \"4.Division\", sep=\"\\n\")\n",
    "a = int(input(\"Enter 1/2/3/4: \"))\n",
    "b = float(input(\"Enter First Number\"))\n",
    "c = float(input(\"Enter Second Number\"))\n",
    "if a == 1:\n",
    "    print(\"The result i: \",b+c)\n",
    "elif a == 2:\n",
    "    print(\"The result is: \",b-c)\n",
    "elif a == 3:\n",
    "    print (\"The result is: \", b*c)\n",
    "elif a == 4:\n",
    "    print (\"The result is: \",b/4)\n",
    "else:\n",
    "    print(\"Invalid Calculation\")"
   ]
  },
  {
   "cell_type": "code",
   "execution_count": 29,
   "id": "wanted-flood",
   "metadata": {},
   "outputs": [
    {
     "name": "stdout",
     "output_type": "stream",
     "text": [
      "Enter the value: -25\n",
      "-25 is negative\n"
     ]
    }
   ],
   "source": [
    "#problem5\n",
    "x = int(input(\"Enter the value: \"))\n",
    "if x == 0:\n",
    "    print(x, \"is zero\")\n",
    "elif x > 0:\n",
    "    print(x, \"is positive\")\n",
    "elif x < 0:\n",
    "    print(x, \"is negative\")\n",
    "else:\n",
    "    print(x, \"is Undefined\")"
   ]
  },
  {
   "cell_type": "code",
   "execution_count": 2,
   "id": "professional-composition",
   "metadata": {},
   "outputs": [
    {
     "name": "stdout",
     "output_type": "stream",
     "text": [
      "Enter the value of Length: 2\n",
      "Enter the value of  Breadth: 2\n",
      "The Rectangle is square\n"
     ]
    }
   ],
   "source": [
    "#problem6\n",
    "x = int(input(\"Enter the value of Length: \"))\n",
    "y = int(input(\"Enter the value of  Breadth: \"))\n",
    "if x * y == x**y:\n",
    "    print(\"The Rectangle is square\")\n",
    "else:\n",
    "    print(\"The Rectangle is not square\")"
   ]
  },
  {
   "cell_type": "code",
   "execution_count": 40,
   "id": "congressional-reach",
   "metadata": {},
   "outputs": [
    {
     "name": "stdout",
     "output_type": "stream",
     "text": [
      "Enter the value of x: 45\n",
      "Enter the value of y: 100\n",
      "Enter the value of z: 1000\n",
      "1000 is highest 45 is lowest\n"
     ]
    }
   ],
   "source": [
    "#problem7\n",
    "x = int(input(\"Enter the value of x: \"))\n",
    "y = int(input(\"Enter the value of y: \"))\n",
    "z = int(input(\"Enter the value of z: \"))\n",
    "if x> y > z:\n",
    "    print(x,\"is highest\",z,\"is lowest\" )\n",
    "elif y > z > x:\n",
    "    print(y,\"is highest\",x,\"is lowest\")\n",
    "elif z > x > y:\n",
    "    print (z,\"is highest\",y,\"is lowest\") \n",
    "elif x > z > y:\n",
    "    print(x, \"is highest\",y, \"is lowest\")\n",
    "elif z > y > x:\n",
    "    print(z,\"is highest\",x,\"is lowest\")\n",
    "elif y > x > z:\n",
    "    print (y,\"is highest\",z,\"is lowest\")"
   ]
  },
  {
   "cell_type": "code",
   "execution_count": 1,
   "id": "statutory-scene",
   "metadata": {},
   "outputs": [
    {
     "name": "stdout",
     "output_type": "stream",
     "text": [
      "Enter your mark: 76\n",
      "A\n"
     ]
    }
   ],
   "source": [
    "#problem8\n",
    "\n",
    "m = float(input(\"Enter your mark: \"))\n",
    "if 0 <= m <= 39:\n",
    "    print(\"F\")\n",
    "elif 40 <= m <= 44:\n",
    "    print(\"D\")\n",
    "elif 45 <= m <= 49:\n",
    "    print(\"C\")\n",
    "elif 50 <= m <= 54:\n",
    "    print(\"C+\")\n",
    "elif 55 <= m <= 59:\n",
    "    print(\"B-\")\n",
    "elif 60 <= m <= 64:\n",
    "    print(\"B\")\n",
    "elif 65 <= m <= 69:\n",
    "    print(\"B+\")\n",
    "elif 70 <= m <= 74:\n",
    "    print(\"A-\")\n",
    "elif 75 <= m <= 79:\n",
    "    print(\"A\")\n",
    "elif 80 <= m <= 100:\n",
    "    print(\"A+\")\n",
    "else:\n",
    "    print(\"Invalid Mark\")"
   ]
  },
  {
   "cell_type": "code",
   "execution_count": null,
   "id": "placed-remains",
   "metadata": {},
   "outputs": [],
   "source": []
  },
  {
   "cell_type": "code",
   "execution_count": null,
   "id": "electric-rotation",
   "metadata": {},
   "outputs": [],
   "source": []
  }
 ],
 "metadata": {
  "kernelspec": {
   "display_name": "Python 3",
   "language": "python",
   "name": "python3"
  },
  "language_info": {
   "codemirror_mode": {
    "name": "ipython",
    "version": 3
   },
   "file_extension": ".py",
   "mimetype": "text/x-python",
   "name": "python",
   "nbconvert_exporter": "python",
   "pygments_lexer": "ipython3",
   "version": "3.9.2"
  }
 },
 "nbformat": 4,
 "nbformat_minor": 5
}
