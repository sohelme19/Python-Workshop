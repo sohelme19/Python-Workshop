{
 "cells": [
  {
   "cell_type": "code",
   "execution_count": 5,
   "id": "continuing-stewart",
   "metadata": {},
   "outputs": [
    {
     "name": "stdout",
     "output_type": "stream",
     "text": [
      "1008,1080,1152,1224,1296,1368,1440,1512,1584,1656,1728,1800\n"
     ]
    }
   ],
   "source": [
    "#problem1\n",
    "\n",
    "b=[]\n",
    "for y in range(1000, 1801):\n",
    "    if (y%8==0) and (y%3==0) and (y%9==0):\n",
    "        b.append(str(y))\n",
    "print (','.join(a))"
   ]
  },
  {
   "cell_type": "code",
   "execution_count": 10,
   "id": "impressed-compilation",
   "metadata": {},
   "outputs": [
    {
     "name": "stdout",
     "output_type": "stream",
     "text": [
      "IEEE HSTU SB\n"
     ]
    }
   ],
   "source": [
    "#problem2\n",
    "\n",
    "touple = ('I','E','E','E','H','S','T','U','S','B')\n",
    "w =\"\"\n",
    "for x in range(0,4):\n",
    "    w = w + touple[x];\n",
    "e =\"\"\n",
    "for y in range(4,8):\n",
    "    e = e + touple[y];\n",
    "r =\"\"\n",
    "for y in range(8,10):\n",
    "    r = r + touple[y];\n",
    "    \n",
    "print(w,e,r)"
   ]
  },
  {
   "cell_type": "code",
   "execution_count": 1,
   "id": "empty-invite",
   "metadata": {},
   "outputs": [
    {
     "name": "stdout",
     "output_type": "stream",
     "text": [
      "Enter lengths:\n",
      "First:2\n",
      "Second:4\n",
      "Third:8\n",
      "The triangle is scalene\n"
     ]
    }
   ],
   "source": [
    "#problem3\n",
    "\n",
    "print(\"Enter lengths:\")\n",
    "x = int(input(\"First:\"))\n",
    "y = int(input(\"Second:\"))\n",
    "z = int(input(\"Third:\"))\n",
    "\n",
    "if x == y == z:\n",
    "    print(\"The triangle is equilateral\")\n",
    "elif x==y or y==z or z==x:\n",
    "    print(\"The triangle is isosceles\")\n",
    "else:\n",
    "    print(\"The triangle is scalene\")"
   ]
  },
  {
   "cell_type": "code",
   "execution_count": 7,
   "id": "tribal-quantum",
   "metadata": {},
   "outputs": [
    {
     "name": "stdout",
     "output_type": "stream",
     "text": [
      "Input a number for multiplication table: 3\n",
      "3 x 1 = 3\n",
      "3 x 2 = 6\n",
      "3 x 3 = 9\n",
      "3 x 4 = 12\n",
      "3 x 5 = 15\n",
      "3 x 6 = 18\n",
      "3 x 7 = 21\n",
      "3 x 8 = 24\n",
      "3 x 9 = 27\n",
      "3 x 10 = 30\n"
     ]
    }
   ],
   "source": [
    "#problem4\n",
    "\n",
    "y = int(input(\"Input a number for displaying multiplication table: \"))\n",
    "for i in range(1,11):\n",
    "   print(y,'x',i,'=',y*i)"
   ]
  },
  {
   "cell_type": "code",
   "execution_count": 3,
   "id": "major-heart",
   "metadata": {},
   "outputs": [
    {
     "name": "stdout",
     "output_type": "stream",
     "text": [
      "Enter Year: 2024\n",
      "2024 is a Leap Year\n"
     ]
    }
   ],
   "source": [
    "#problem5\n",
    "\n",
    "year = int(input(\"Enter Year: \"))\n",
    "if year % 4 == 0:\n",
    "    print(year, \"is a Leap Year\")\n",
    "else:\n",
    "    print(year,\"is not a leap year\")"
   ]
  },
  {
   "cell_type": "code",
   "execution_count": 12,
   "id": "studied-blood",
   "metadata": {},
   "outputs": [
    {
     "name": "stdout",
     "output_type": "stream",
     "text": [
      "Which one would you like to calculate? \n",
      "1. Triangle 2. Rectangle 3. Circle\n",
      "Choose: 3\n",
      "Enter the value of Radius:7\n",
      "The area of the circle is: 153.9384\n"
     ]
    }
   ],
   "source": [
    "#problem6\n",
    "\n",
    "print(\"Which one would you like to calculate? \\n1. Triangle 2. Rectangle 3. Circle\")\n",
    "x=int(input(\"Choose: \"))\n",
    "if x==1:\n",
    "    print(\"Enter the values of Triangle:\")\n",
    "    h=float(input(\"height:\"))\n",
    "    b=float(input(\"base:\"))\n",
    "    a=0.5*b*h\n",
    "    print(\"The area of the triangle is:\",a)\n",
    "elif x==2:\n",
    "    print(\"Enter the values of rectangle:\")\n",
    "    l=float(input(\"length:\"))\n",
    "    w=float(input(\"width:\"))\n",
    "    n=l*w\n",
    "    print(\"The area of the rectangle is:\",n)\n",
    "elif x==3:\n",
    "    r=float(input(\"Enter the value of Radius:\"))\n",
    "    q=3.1416*r*r\n",
    "    print(\"The area of the circle is:\",q)\n",
    "elif x<<1 and x>>3: \n",
    "    print(\"Undefined\")"
   ]
  },
  {
   "cell_type": "code",
   "execution_count": null,
   "id": "human-universal",
   "metadata": {},
   "outputs": [],
   "source": []
  }
 ],
 "metadata": {
  "kernelspec": {
   "display_name": "Python 3",
   "language": "python",
   "name": "python3"
  },
  "language_info": {
   "codemirror_mode": {
    "name": "ipython",
    "version": 3
   },
   "file_extension": ".py",
   "mimetype": "text/x-python",
   "name": "python",
   "nbconvert_exporter": "python",
   "pygments_lexer": "ipython3",
   "version": "3.9.2"
  }
 },
 "nbformat": 4,
 "nbformat_minor": 5
}
