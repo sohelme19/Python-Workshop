{
 "cells": [
  {
   "cell_type": "markdown",
   "id": "better-stamp",
   "metadata": {},
   "source": [
    "Every value in Python has a datatype. Since everything is an object in Python programming, data types are actually classes and variables are instance (object) of these classes. There are various data types in Python."
   ]
  },
  {
   "cell_type": "code",
   "execution_count": 2,
   "id": "distinguished-barrel",
   "metadata": {},
   "outputs": [
    {
     "name": "stdout",
     "output_type": "stream",
     "text": [
      "<class 'int'>\n"
     ]
    }
   ],
   "source": [
    "x = 10\n",
    "print (type (x)) #int"
   ]
  },
  {
   "cell_type": "code",
   "execution_count": 1,
   "id": "interior-harvest",
   "metadata": {},
   "outputs": [
    {
     "name": "stdout",
     "output_type": "stream",
     "text": [
      "<class 'str'>\n"
     ]
    }
   ],
   "source": [
    "y = \"Hello World\"\n",
    "print (type (y)) #str"
   ]
  },
  {
   "cell_type": "code",
   "execution_count": null,
   "id": "answering-phase",
   "metadata": {},
   "outputs": [],
   "source": [
    "a = 10.5 \n",
    "print (type (a)) #float"
   ]
  },
  {
   "cell_type": "code",
   "execution_count": null,
   "id": "ignored-pavilion",
   "metadata": {},
   "outputs": [],
   "source": [
    "x = 1j\n",
    "print (type (x)) #complex"
   ]
  },
  {
   "cell_type": "code",
   "execution_count": 4,
   "id": "regulation-brunswick",
   "metadata": {},
   "outputs": [
    {
     "name": "stdout",
     "output_type": "stream",
     "text": [
      "<class 'list'>\n"
     ]
    }
   ],
   "source": [
    "b = [ \"apple\", \"banana\", \"lemon\"]\n",
    "print (type (b)) #list"
   ]
  },
  {
   "cell_type": "code",
   "execution_count": 3,
   "id": "extraordinary-cancellation",
   "metadata": {},
   "outputs": [
    {
     "name": "stdout",
     "output_type": "stream",
     "text": [
      "<class 'tuple'>\n"
     ]
    }
   ],
   "source": [
    "c = (\"apple\", \"banana\", \"lemon\")\n",
    "print (type (c)) #tuple"
   ]
  },
  {
   "cell_type": "code",
   "execution_count": null,
   "id": "downtown-teach",
   "metadata": {},
   "outputs": [],
   "source": [
    "y = { \"apple\", \"banana\", \"lemon\"}\n",
    "print ( type (y)) #set"
   ]
  },
  {
   "cell_type": "code",
   "execution_count": null,
   "id": "tropical-entry",
   "metadata": {},
   "outputs": [],
   "source": [
    "z = {\"name\" : \"Sohel\", \"age\" : 22}\n",
    "print (type (z)) #dic"
   ]
  },
  {
   "cell_type": "markdown",
   "id": "seasonal-musical",
   "metadata": {},
   "source": [
    "Python operator is a symbol that performs an operation on one or more operands. An operand is a variable or a value on which we perform the operation."
   ]
  },
  {
   "cell_type": "code",
   "execution_count": 1,
   "id": "historical-interval",
   "metadata": {},
   "outputs": [
    {
     "name": "stdout",
     "output_type": "stream",
     "text": [
      "6\n",
      "0.6666666666666666\n",
      "8\n"
     ]
    }
   ],
   "source": [
    "k = 2\n",
    "p = 3\n",
    "print ( k * p) #multiplication\n",
    "print ( k / p) #dividation\n",
    "print ( k ** p) #exponential"
   ]
  },
  {
   "cell_type": "code",
   "execution_count": 7,
   "id": "marine-advertising",
   "metadata": {},
   "outputs": [
    {
     "name": "stdout",
     "output_type": "stream",
     "text": [
      "3\n"
     ]
    }
   ],
   "source": [
    "#problem 1\n",
    "v = [1, 2, 3, 4, 5, 6, 7]\n",
    "print (v[2])"
   ]
  },
  {
   "cell_type": "code",
   "execution_count": 6,
   "id": "overhead-implement",
   "metadata": {},
   "outputs": [
    {
     "name": "stdout",
     "output_type": "stream",
     "text": [
      "8\n",
      "-2\n",
      "15\n"
     ]
    }
   ],
   "source": [
    "#problem 2\n",
    "a = 3\n",
    "b = 5\n",
    "print ( a + b)\n",
    "print ( a - b)\n",
    "print ( a * b)"
   ]
  },
  {
   "cell_type": "code",
   "execution_count": 9,
   "id": "large-laser",
   "metadata": {},
   "outputs": [
    {
     "name": "stdout",
     "output_type": "stream",
     "text": [
      "0\n",
      "0.6\n"
     ]
    }
   ],
   "source": [
    "#problem 3\n",
    "a = 3\n",
    "b = 5\n",
    "print (int (a / b))\n",
    "print ( float (a / b))"
   ]
  },
  {
   "cell_type": "code",
   "execution_count": 10,
   "id": "dutch-vampire",
   "metadata": {},
   "outputs": [
    {
     "name": "stdout",
     "output_type": "stream",
     "text": [
      "Red\n",
      "Black\n"
     ]
    }
   ],
   "source": [
    "#problem 4\n",
    "Color_list = [ \"Red\", \"Green\", \"White\", \"Black\"]\n",
    "print ( Color_list[0])\n",
    "print ( Color_list[3])"
   ]
  },
  {
   "cell_type": "code",
   "execution_count": 11,
   "id": "popular-benjamin",
   "metadata": {},
   "outputs": [
    {
     "name": "stdout",
     "output_type": "stream",
     "text": [
      " String that you don't have to escape this\n",
      "is a . . . . . . . . . . . . Multi Line\n",
      "herdoc string _________ > example\n"
     ]
    }
   ],
   "source": [
    "#problem 5\n",
    "sam_str = \"\"\" String that you don't have to escape this\n",
    "is a . . . . . . . . . . . . Multi Line\n",
    "herdoc string _________ > example\"\"\"\n",
    "print (sam_str)"
   ]
  },
  {
   "cell_type": "code",
   "execution_count": 13,
   "id": "clear-fourth",
   "metadata": {},
   "outputs": [
    {
     "name": "stdin",
     "output_type": "stream",
     "text": [
      "base 4\n",
      "height 5\n"
     ]
    },
    {
     "name": "stdout",
     "output_type": "stream",
     "text": [
      "The area of the triangle is {0} 4.0\n"
     ]
    }
   ],
   "source": [
    "#problem 6\n",
    "a = float(input(\"base\"))\n",
    "b = float(input(\"height\"))\n",
    "c= 0.2\n",
    "x = a*b*c\n",
    "print (\"The area of the triangle is {0}\", format (x))"
   ]
  },
  {
   "cell_type": "code",
   "execution_count": 14,
   "id": "freelance-species",
   "metadata": {},
   "outputs": [
    {
     "name": "stdout",
     "output_type": "stream",
     "text": [
      "Sohel\n",
      "Age-22\n",
      "Gazipur\n"
     ]
    }
   ],
   "source": [
    "#problem 7\n",
    "print (\"Sohel\", \"Age-22\", \"Gazipur\", sep='\\n')"
   ]
  },
  {
   "cell_type": "code",
   "execution_count": 2,
   "id": "tested-disposal",
   "metadata": {},
   "outputs": [
    {
     "name": "stdin",
     "output_type": "stream",
     "text": [
      "P.A 10\n",
      "Timespan 2\n",
      "Rate 5\n"
     ]
    },
    {
     "name": "stdout",
     "output_type": "stream",
     "text": [
      "The Value of Compund Interest is {0} 11.0\n"
     ]
    }
   ],
   "source": [
    "#problem 8\n",
    "p = float(input(\"P.A\"))\n",
    "t = float(input(\"Timespan\"))\n",
    "r = float(input(\"Rate\"))\n",
    "a = p*t*(1+r/100)\n",
    "c = a - p\n",
    "print (\"The Value of Compund Interest is {0}\", format (c))\n"
   ]
  },
  {
   "cell_type": "code",
   "execution_count": 3,
   "id": "about-scottish",
   "metadata": {},
   "outputs": [
    {
     "name": "stdout",
     "output_type": "stream",
     "text": [
      "\n",
      "* * * * *\n",
      " * * * *\n",
      "  * * *\n",
      "   * *\n",
      "    * \n",
      "\n"
     ]
    }
   ],
   "source": [
    "#problem 9\n",
    "print (\"\"\"\n",
    "* * * * *\n",
    " * * * *\n",
    "  * * *\n",
    "   * *\n",
    "    * \n",
    "\"\"\")"
   ]
  },
  {
   "cell_type": "code",
   "execution_count": 5,
   "id": "purple-connecticut",
   "metadata": {},
   "outputs": [
    {
     "name": "stdin",
     "output_type": "stream",
     "text": [
      "Enter the value of Celcius -40\n"
     ]
    },
    {
     "name": "stdout",
     "output_type": "stream",
     "text": [
      "The Farenheit Temperature is {0} -40.0\n"
     ]
    }
   ],
   "source": [
    "#problem 10\n",
    "c = float(input(\"Enter the value of Celcius\"))\n",
    "f = (c*1.8)+32\n",
    "print (\"The Farenheit Temperature is {0}\", format (f))"
   ]
  },
  {
   "cell_type": "code",
   "execution_count": null,
   "id": "superior-printing",
   "metadata": {},
   "outputs": [],
   "source": []
  }
 ],
 "metadata": {
  "kernelspec": {
   "display_name": "Python 3",
   "language": "python",
   "name": "python3"
  },
  "language_info": {
   "codemirror_mode": {
    "name": "ipython",
    "version": 3
   },
   "file_extension": ".py",
   "mimetype": "text/x-python",
   "name": "python",
   "nbconvert_exporter": "python",
   "pygments_lexer": "ipython3",
   "version": "3.8.3"
  }
 },
 "nbformat": 4,
 "nbformat_minor": 5
}
